{
 "cells": [
  {
   "cell_type": "code",
   "execution_count": 1,
   "metadata": {},
   "outputs": [],
   "source": [
    "import pandas as pd"
   ]
  },
  {
   "cell_type": "markdown",
   "metadata": {},
   "source": [
    "<h1>The read_excel method</h1>\n",
    "\n",
    "\n",
    "We'll begin with the read_excel method, that let us read Excel files into a DataFrame.\n",
    "\n",
    "\n",
    "This method supports both XLS and XLSX file extensions from a local filesystem or URL and has a broad set of parameters to configure how the data will be read and parsed. These parameters are very similar to the parameters we saw on previous lectures where we introduced the read_csv method. The most common parameters are as follows:\n",
    "\n",
    "\n",
    "1) filepath: Path of the file to be read.\n",
    "\n",
    "2) sheet_name: Strings are used for sheet names. Integers are used in zero-indexed sheet positions. Lists of strings/integers are used to request multiple sheets. Specify None to get all sheets.\n",
    "\n",
    "3) header: Index of the row containing the names of the columns (None if none).\n",
    "\n",
    "4) index_col: Index of the column or sequence of indexes that should be used as index of rows of the data.\n",
    "\n",
    "5) names: Sequence containing the names of the columns (used together with header = None).\n",
    "\n",
    "6) skiprows: Number of rows or sequence of row indexes to ignore in the load.\n",
    "\n",
    "7) na_values: Sequence of values that, if found in the file, should be treated as NaN.\n",
    "\n",
    "8) dtype: Dictionary in which the keys will be column names and the values will be types of NumPy to which their content must be converted.\n",
    "\n",
    "9) parse_dates: Flag that indicates if Python should try to parse data with a format similar to dates as dates. You can enter a list of column names that must be joined for the parsing as a date.\n",
    "\n",
    "10) date_parser: Function to use to try to parse dates.\n",
    "\n",
    "11) nrows: Number of rows to read from the beginning of the file.\n",
    "\n",
    "12) skip_footer: Number of rows to ignore at the end of the file.\n",
    "\n",
    "13) squeeze: Flag that indicates that if the data read only contains one column the result is a Series instead of a DataFrame.\n",
    "14) thousands: Character to use to detect the thousands separator."
   ]
  },
  {
   "cell_type": "markdown",
   "metadata": {},
   "source": [
    "<h1>Reading our first Excel file</h1>\n",
    "\n",
    "Everytime we call read_excel method, we'll need to pass an explicit filepath parameter indicating the path where our Excel file is.\n",
    "\n",
    "\n",
    "Any valid string path is acceptable. The string could be a URL. Valid URL schemes include HTTP, FTP, S3, and file. For file URLs, a host is expected. A local file could be: file://localhost/path/to/table.xlsx"
   ]
  },
  {
   "cell_type": "code",
   "execution_count": 7,
   "metadata": {},
   "outputs": [],
   "source": [
    "df=pd.read_excel(\"products.xlsx\",engine='openpyxl',index_col=[0])"
   ]
  },
  {
   "cell_type": "code",
   "execution_count": 8,
   "metadata": {},
   "outputs": [
    {
     "data": {
      "text/html": [
       "<div>\n",
       "<style scoped>\n",
       "    .dataframe tbody tr th:only-of-type {\n",
       "        vertical-align: middle;\n",
       "    }\n",
       "\n",
       "    .dataframe tbody tr th {\n",
       "        vertical-align: top;\n",
       "    }\n",
       "\n",
       "    .dataframe thead th {\n",
       "        text-align: right;\n",
       "    }\n",
       "</style>\n",
       "<table border=\"1\" class=\"dataframe\">\n",
       "  <thead>\n",
       "    <tr style=\"text-align: right;\">\n",
       "      <th></th>\n",
       "      <th>price</th>\n",
       "      <th>merchant_id</th>\n",
       "      <th>brand</th>\n",
       "      <th>name</th>\n",
       "    </tr>\n",
       "    <tr>\n",
       "      <th>product_id</th>\n",
       "      <th></th>\n",
       "      <th></th>\n",
       "      <th></th>\n",
       "      <th></th>\n",
       "    </tr>\n",
       "  </thead>\n",
       "  <tbody>\n",
       "    <tr>\n",
       "      <th>AVphzgbJLJeJML43fA0o</th>\n",
       "      <td>104.99</td>\n",
       "      <td>1001</td>\n",
       "      <td>Sanus</td>\n",
       "      <td>Sanus VLF410B1 10-Inch Super Slim Full-Motion ...</td>\n",
       "    </tr>\n",
       "    <tr>\n",
       "      <th>AVpgMuGwLJeJML43KY_c</th>\n",
       "      <td>69.00</td>\n",
       "      <td>1002</td>\n",
       "      <td>Boytone</td>\n",
       "      <td>Boytone - 2500W 2.1-Ch. Home Theater System - ...</td>\n",
       "    </tr>\n",
       "    <tr>\n",
       "      <th>AVpe9FXeLJeJML43zHrq</th>\n",
       "      <td>23.99</td>\n",
       "      <td>1001</td>\n",
       "      <td>DENAQ</td>\n",
       "      <td>DENAQ - AC Adapter for TOSHIBA SATELLITE</td>\n",
       "    </tr>\n",
       "    <tr>\n",
       "      <th>AVpfVJXu1cnluZ0-iwTT</th>\n",
       "      <td>290.99</td>\n",
       "      <td>1001</td>\n",
       "      <td>DreamWave</td>\n",
       "      <td>DreamWave - Tremor Portable Bluetooth Speaker ...</td>\n",
       "    </tr>\n",
       "    <tr>\n",
       "      <th>AVphUeKeilAPnD_x3-Be</th>\n",
       "      <td>244.01</td>\n",
       "      <td>1004</td>\n",
       "      <td>Yamaha</td>\n",
       "      <td>NS-SP1800BL 5.1-Channel Home Theater System (B...</td>\n",
       "    </tr>\n",
       "  </tbody>\n",
       "</table>\n",
       "</div>"
      ],
      "text/plain": [
       "                       price  merchant_id      brand  \\\n",
       "product_id                                             \n",
       "AVphzgbJLJeJML43fA0o  104.99         1001      Sanus   \n",
       "AVpgMuGwLJeJML43KY_c   69.00         1002    Boytone   \n",
       "AVpe9FXeLJeJML43zHrq   23.99         1001      DENAQ   \n",
       "AVpfVJXu1cnluZ0-iwTT  290.99         1001  DreamWave   \n",
       "AVphUeKeilAPnD_x3-Be  244.01         1004     Yamaha   \n",
       "\n",
       "                                                                   name  \n",
       "product_id                                                               \n",
       "AVphzgbJLJeJML43fA0o  Sanus VLF410B1 10-Inch Super Slim Full-Motion ...  \n",
       "AVpgMuGwLJeJML43KY_c  Boytone - 2500W 2.1-Ch. Home Theater System - ...  \n",
       "AVpe9FXeLJeJML43zHrq           DENAQ - AC Adapter for TOSHIBA SATELLITE  \n",
       "AVpfVJXu1cnluZ0-iwTT  DreamWave - Tremor Portable Bluetooth Speaker ...  \n",
       "AVphUeKeilAPnD_x3-Be  NS-SP1800BL 5.1-Channel Home Theater System (B...  "
      ]
     },
     "execution_count": 8,
     "metadata": {},
     "output_type": "execute_result"
    }
   ],
   "source": [
    "df.head()"
   ]
  },
  {
   "cell_type": "code",
   "execution_count": 6,
   "metadata": {},
   "outputs": [
    {
     "data": {
      "text/html": [
       "<div>\n",
       "<style scoped>\n",
       "    .dataframe tbody tr th:only-of-type {\n",
       "        vertical-align: middle;\n",
       "    }\n",
       "\n",
       "    .dataframe tbody tr th {\n",
       "        vertical-align: top;\n",
       "    }\n",
       "\n",
       "    .dataframe thead th {\n",
       "        text-align: right;\n",
       "    }\n",
       "</style>\n",
       "<table border=\"1\" class=\"dataframe\">\n",
       "  <thead>\n",
       "    <tr style=\"text-align: right;\">\n",
       "      <th></th>\n",
       "      <th>product_id</th>\n",
       "      <th>price</th>\n",
       "      <th>merchant_id</th>\n",
       "      <th>brand</th>\n",
       "      <th>name</th>\n",
       "    </tr>\n",
       "  </thead>\n",
       "  <tbody>\n",
       "    <tr>\n",
       "      <th>0</th>\n",
       "      <td>AVphzgbJLJeJML43fA0o</td>\n",
       "      <td>104.99</td>\n",
       "      <td>1001</td>\n",
       "      <td>Sanus</td>\n",
       "      <td>Sanus VLF410B1 10-Inch Super Slim Full-Motion ...</td>\n",
       "    </tr>\n",
       "    <tr>\n",
       "      <th>1</th>\n",
       "      <td>AVpgMuGwLJeJML43KY_c</td>\n",
       "      <td>69.00</td>\n",
       "      <td>1002</td>\n",
       "      <td>Boytone</td>\n",
       "      <td>Boytone - 2500W 2.1-Ch. Home Theater System - ...</td>\n",
       "    </tr>\n",
       "    <tr>\n",
       "      <th>2</th>\n",
       "      <td>AVpe9FXeLJeJML43zHrq</td>\n",
       "      <td>23.99</td>\n",
       "      <td>1001</td>\n",
       "      <td>DENAQ</td>\n",
       "      <td>DENAQ - AC Adapter for TOSHIBA SATELLITE</td>\n",
       "    </tr>\n",
       "    <tr>\n",
       "      <th>3</th>\n",
       "      <td>AVpfVJXu1cnluZ0-iwTT</td>\n",
       "      <td>290.99</td>\n",
       "      <td>1001</td>\n",
       "      <td>DreamWave</td>\n",
       "      <td>DreamWave - Tremor Portable Bluetooth Speaker ...</td>\n",
       "    </tr>\n",
       "    <tr>\n",
       "      <th>4</th>\n",
       "      <td>AVphUeKeilAPnD_x3-Be</td>\n",
       "      <td>244.01</td>\n",
       "      <td>1004</td>\n",
       "      <td>Yamaha</td>\n",
       "      <td>NS-SP1800BL 5.1-Channel Home Theater System (B...</td>\n",
       "    </tr>\n",
       "  </tbody>\n",
       "</table>\n",
       "</div>"
      ],
      "text/plain": [
       "             product_id   price  merchant_id      brand  \\\n",
       "0  AVphzgbJLJeJML43fA0o  104.99         1001      Sanus   \n",
       "1  AVpgMuGwLJeJML43KY_c   69.00         1002    Boytone   \n",
       "2  AVpe9FXeLJeJML43zHrq   23.99         1001      DENAQ   \n",
       "3  AVpfVJXu1cnluZ0-iwTT  290.99         1001  DreamWave   \n",
       "4  AVphUeKeilAPnD_x3-Be  244.01         1004     Yamaha   \n",
       "\n",
       "                                                name  \n",
       "0  Sanus VLF410B1 10-Inch Super Slim Full-Motion ...  \n",
       "1  Boytone - 2500W 2.1-Ch. Home Theater System - ...  \n",
       "2           DENAQ - AC Adapter for TOSHIBA SATELLITE  \n",
       "3  DreamWave - Tremor Portable Bluetooth Speaker ...  \n",
       "4  NS-SP1800BL 5.1-Channel Home Theater System (B...  "
      ]
     },
     "execution_count": 6,
     "metadata": {},
     "output_type": "execute_result"
    }
   ],
   "source": [
    "pd.read_excel(\"products.xlsx\",engine='openpyxl',header=0).head()"
   ]
  },
  {
   "cell_type": "code",
   "execution_count": 10,
   "metadata": {},
   "outputs": [],
   "source": [
    "products=pd.read_excel('products.xlsx',engine='openpyxl',sheet_name='Products',index_col=[0])"
   ]
  },
  {
   "cell_type": "code",
   "execution_count": 11,
   "metadata": {},
   "outputs": [
    {
     "data": {
      "text/html": [
       "<div>\n",
       "<style scoped>\n",
       "    .dataframe tbody tr th:only-of-type {\n",
       "        vertical-align: middle;\n",
       "    }\n",
       "\n",
       "    .dataframe tbody tr th {\n",
       "        vertical-align: top;\n",
       "    }\n",
       "\n",
       "    .dataframe thead th {\n",
       "        text-align: right;\n",
       "    }\n",
       "</style>\n",
       "<table border=\"1\" class=\"dataframe\">\n",
       "  <thead>\n",
       "    <tr style=\"text-align: right;\">\n",
       "      <th></th>\n",
       "      <th>price</th>\n",
       "      <th>merchant_id</th>\n",
       "      <th>brand</th>\n",
       "      <th>name</th>\n",
       "    </tr>\n",
       "    <tr>\n",
       "      <th>product_id</th>\n",
       "      <th></th>\n",
       "      <th></th>\n",
       "      <th></th>\n",
       "      <th></th>\n",
       "    </tr>\n",
       "  </thead>\n",
       "  <tbody>\n",
       "    <tr>\n",
       "      <th>AVphzgbJLJeJML43fA0o</th>\n",
       "      <td>104.99</td>\n",
       "      <td>1001</td>\n",
       "      <td>Sanus</td>\n",
       "      <td>Sanus VLF410B1 10-Inch Super Slim Full-Motion ...</td>\n",
       "    </tr>\n",
       "    <tr>\n",
       "      <th>AVpgMuGwLJeJML43KY_c</th>\n",
       "      <td>69.00</td>\n",
       "      <td>1002</td>\n",
       "      <td>Boytone</td>\n",
       "      <td>Boytone - 2500W 2.1-Ch. Home Theater System - ...</td>\n",
       "    </tr>\n",
       "    <tr>\n",
       "      <th>AVpe9FXeLJeJML43zHrq</th>\n",
       "      <td>23.99</td>\n",
       "      <td>1001</td>\n",
       "      <td>DENAQ</td>\n",
       "      <td>DENAQ - AC Adapter for TOSHIBA SATELLITE</td>\n",
       "    </tr>\n",
       "    <tr>\n",
       "      <th>AVpfVJXu1cnluZ0-iwTT</th>\n",
       "      <td>290.99</td>\n",
       "      <td>1001</td>\n",
       "      <td>DreamWave</td>\n",
       "      <td>DreamWave - Tremor Portable Bluetooth Speaker ...</td>\n",
       "    </tr>\n",
       "    <tr>\n",
       "      <th>AVphUeKeilAPnD_x3-Be</th>\n",
       "      <td>244.01</td>\n",
       "      <td>1004</td>\n",
       "      <td>Yamaha</td>\n",
       "      <td>NS-SP1800BL 5.1-Channel Home Theater System (B...</td>\n",
       "    </tr>\n",
       "  </tbody>\n",
       "</table>\n",
       "</div>"
      ],
      "text/plain": [
       "                       price  merchant_id      brand  \\\n",
       "product_id                                             \n",
       "AVphzgbJLJeJML43fA0o  104.99         1001      Sanus   \n",
       "AVpgMuGwLJeJML43KY_c   69.00         1002    Boytone   \n",
       "AVpe9FXeLJeJML43zHrq   23.99         1001      DENAQ   \n",
       "AVpfVJXu1cnluZ0-iwTT  290.99         1001  DreamWave   \n",
       "AVphUeKeilAPnD_x3-Be  244.01         1004     Yamaha   \n",
       "\n",
       "                                                                   name  \n",
       "product_id                                                               \n",
       "AVphzgbJLJeJML43fA0o  Sanus VLF410B1 10-Inch Super Slim Full-Motion ...  \n",
       "AVpgMuGwLJeJML43KY_c  Boytone - 2500W 2.1-Ch. Home Theater System - ...  \n",
       "AVpe9FXeLJeJML43zHrq           DENAQ - AC Adapter for TOSHIBA SATELLITE  \n",
       "AVpfVJXu1cnluZ0-iwTT  DreamWave - Tremor Portable Bluetooth Speaker ...  \n",
       "AVphUeKeilAPnD_x3-Be  NS-SP1800BL 5.1-Channel Home Theater System (B...  "
      ]
     },
     "execution_count": 11,
     "metadata": {},
     "output_type": "execute_result"
    }
   ],
   "source": [
    "products.head()"
   ]
  },
  {
   "cell_type": "code",
   "execution_count": 13,
   "metadata": {},
   "outputs": [],
   "source": [
    "merchants=pd.read_excel('products.xlsx',sheet_name='Merchants',index_col='merchant_id',engine='openpyxl')"
   ]
  },
  {
   "cell_type": "code",
   "execution_count": 14,
   "metadata": {},
   "outputs": [
    {
     "data": {
      "text/html": [
       "<div>\n",
       "<style scoped>\n",
       "    .dataframe tbody tr th:only-of-type {\n",
       "        vertical-align: middle;\n",
       "    }\n",
       "\n",
       "    .dataframe tbody tr th {\n",
       "        vertical-align: top;\n",
       "    }\n",
       "\n",
       "    .dataframe thead th {\n",
       "        text-align: right;\n",
       "    }\n",
       "</style>\n",
       "<table border=\"1\" class=\"dataframe\">\n",
       "  <thead>\n",
       "    <tr style=\"text-align: right;\">\n",
       "      <th></th>\n",
       "      <th>merchant</th>\n",
       "    </tr>\n",
       "    <tr>\n",
       "      <th>merchant_id</th>\n",
       "      <th></th>\n",
       "    </tr>\n",
       "  </thead>\n",
       "  <tbody>\n",
       "    <tr>\n",
       "      <th>1001</th>\n",
       "      <td>Bestbuy.com</td>\n",
       "    </tr>\n",
       "    <tr>\n",
       "      <th>1002</th>\n",
       "      <td>Walmart.com</td>\n",
       "    </tr>\n",
       "    <tr>\n",
       "      <th>1003</th>\n",
       "      <td>Bestbuy.com</td>\n",
       "    </tr>\n",
       "    <tr>\n",
       "      <th>1004</th>\n",
       "      <td>Growkart</td>\n",
       "    </tr>\n",
       "    <tr>\n",
       "      <th>1005</th>\n",
       "      <td>bhphotovideo.com</td>\n",
       "    </tr>\n",
       "  </tbody>\n",
       "</table>\n",
       "</div>"
      ],
      "text/plain": [
       "                     merchant\n",
       "merchant_id                  \n",
       "1001              Bestbuy.com\n",
       "1002              Walmart.com\n",
       "1003              Bestbuy.com\n",
       "1004                 Growkart\n",
       "1005         bhphotovideo.com"
      ]
     },
     "execution_count": 14,
     "metadata": {},
     "output_type": "execute_result"
    }
   ],
   "source": [
    "merchants.head()"
   ]
  },
  {
   "cell_type": "markdown",
   "metadata": {},
   "source": [
    "<h1>The ExcelFile class</h1>\n",
    "\n",
    "Another approach on reading Excel data is using the ExcelFile class for parsing tabular Excel sheets into DataFrame objects.\n",
    "\n",
    "This ExcelFile will let us work with sheets easily, and will be faster than the previous read_excel method"
   ]
  },
  {
   "cell_type": "code",
   "execution_count": 17,
   "metadata": {},
   "outputs": [],
   "source": [
    "excel_file=pd.ExcelFile('products.xlsx',engine='openpyxl')"
   ]
  },
  {
   "cell_type": "code",
   "execution_count": 20,
   "metadata": {},
   "outputs": [
    {
     "data": {
      "text/plain": [
       "['Products', 'Descriptions', 'Merchants']"
      ]
     },
     "execution_count": 20,
     "metadata": {},
     "output_type": "execute_result"
    }
   ],
   "source": [
    "excel_file.sheet_names"
   ]
  },
  {
   "cell_type": "markdown",
   "metadata": {},
   "source": [
    "add parse specified sheet(s) into a Pandas' DataFrame using ExcelFile's parse() method.\n",
    "\n",
    "Everytime we call parse() method, we'll need to pass an explicit sheet_name parameter indicating which sheet from the Excel file we want to be parsed. First sheet will be parsed by default."
   ]
  },
  {
   "cell_type": "code",
   "execution_count": 23,
   "metadata": {},
   "outputs": [],
   "source": [
    "prod=excel_file.parse('Products',header=0,index_col=[0])"
   ]
  },
  {
   "cell_type": "code",
   "execution_count": 24,
   "metadata": {},
   "outputs": [
    {
     "data": {
      "text/html": [
       "<div>\n",
       "<style scoped>\n",
       "    .dataframe tbody tr th:only-of-type {\n",
       "        vertical-align: middle;\n",
       "    }\n",
       "\n",
       "    .dataframe tbody tr th {\n",
       "        vertical-align: top;\n",
       "    }\n",
       "\n",
       "    .dataframe thead th {\n",
       "        text-align: right;\n",
       "    }\n",
       "</style>\n",
       "<table border=\"1\" class=\"dataframe\">\n",
       "  <thead>\n",
       "    <tr style=\"text-align: right;\">\n",
       "      <th></th>\n",
       "      <th>price</th>\n",
       "      <th>merchant_id</th>\n",
       "      <th>brand</th>\n",
       "      <th>name</th>\n",
       "    </tr>\n",
       "    <tr>\n",
       "      <th>product_id</th>\n",
       "      <th></th>\n",
       "      <th></th>\n",
       "      <th></th>\n",
       "      <th></th>\n",
       "    </tr>\n",
       "  </thead>\n",
       "  <tbody>\n",
       "    <tr>\n",
       "      <th>AVphzgbJLJeJML43fA0o</th>\n",
       "      <td>104.99</td>\n",
       "      <td>1001</td>\n",
       "      <td>Sanus</td>\n",
       "      <td>Sanus VLF410B1 10-Inch Super Slim Full-Motion ...</td>\n",
       "    </tr>\n",
       "    <tr>\n",
       "      <th>AVpgMuGwLJeJML43KY_c</th>\n",
       "      <td>69.00</td>\n",
       "      <td>1002</td>\n",
       "      <td>Boytone</td>\n",
       "      <td>Boytone - 2500W 2.1-Ch. Home Theater System - ...</td>\n",
       "    </tr>\n",
       "    <tr>\n",
       "      <th>AVpe9FXeLJeJML43zHrq</th>\n",
       "      <td>23.99</td>\n",
       "      <td>1001</td>\n",
       "      <td>DENAQ</td>\n",
       "      <td>DENAQ - AC Adapter for TOSHIBA SATELLITE</td>\n",
       "    </tr>\n",
       "    <tr>\n",
       "      <th>AVpfVJXu1cnluZ0-iwTT</th>\n",
       "      <td>290.99</td>\n",
       "      <td>1001</td>\n",
       "      <td>DreamWave</td>\n",
       "      <td>DreamWave - Tremor Portable Bluetooth Speaker ...</td>\n",
       "    </tr>\n",
       "    <tr>\n",
       "      <th>AVphUeKeilAPnD_x3-Be</th>\n",
       "      <td>244.01</td>\n",
       "      <td>1004</td>\n",
       "      <td>Yamaha</td>\n",
       "      <td>NS-SP1800BL 5.1-Channel Home Theater System (B...</td>\n",
       "    </tr>\n",
       "  </tbody>\n",
       "</table>\n",
       "</div>"
      ],
      "text/plain": [
       "                       price  merchant_id      brand  \\\n",
       "product_id                                             \n",
       "AVphzgbJLJeJML43fA0o  104.99         1001      Sanus   \n",
       "AVpgMuGwLJeJML43KY_c   69.00         1002    Boytone   \n",
       "AVpe9FXeLJeJML43zHrq   23.99         1001      DENAQ   \n",
       "AVpfVJXu1cnluZ0-iwTT  290.99         1001  DreamWave   \n",
       "AVphUeKeilAPnD_x3-Be  244.01         1004     Yamaha   \n",
       "\n",
       "                                                                   name  \n",
       "product_id                                                               \n",
       "AVphzgbJLJeJML43fA0o  Sanus VLF410B1 10-Inch Super Slim Full-Motion ...  \n",
       "AVpgMuGwLJeJML43KY_c  Boytone - 2500W 2.1-Ch. Home Theater System - ...  \n",
       "AVpe9FXeLJeJML43zHrq           DENAQ - AC Adapter for TOSHIBA SATELLITE  \n",
       "AVpfVJXu1cnluZ0-iwTT  DreamWave - Tremor Portable Bluetooth Speaker ...  \n",
       "AVphUeKeilAPnD_x3-Be  NS-SP1800BL 5.1-Channel Home Theater System (B...  "
      ]
     },
     "execution_count": 24,
     "metadata": {},
     "output_type": "execute_result"
    }
   ],
   "source": [
    "prod.head()"
   ]
  },
  {
   "cell_type": "markdown",
   "metadata": {},
   "source": [
    "<h1>Save to Excel file</h1>\n",
    "Finally we can save our DataFrame as a Excel file."
   ]
  },
  {
   "cell_type": "code",
   "execution_count": 26,
   "metadata": {},
   "outputs": [],
   "source": [
    "products.to_excel('out.xlsx')"
   ]
  },
  {
   "cell_type": "code",
   "execution_count": 27,
   "metadata": {},
   "outputs": [],
   "source": [
    "products.to_excel('out.xlsx',\n",
    "                  sheet_name='Products',\n",
    "                  startrow=1,\n",
    "                  startcol=2)"
   ]
  },
  {
   "cell_type": "markdown",
   "metadata": {},
   "source": [
    "<h1>Saving multiple sheets</h1>\n",
    "\n",
    "If we wanted to write a single DataFrame to a single sheet with default formatting then we are done. However, if we want to write multiple sheets and/or multiple DataFrames, then we will need to create an ExcelWriter object.\n",
    "\n",
    "The ExcelWriter object is included in the Pandas module and is used to open Excel files and handle write operations. This object behaves almost exactly like the vanilla Python open object that we used on previous courses and can be used within a with block"
   ]
  },
  {
   "cell_type": "code",
   "execution_count": 29,
   "metadata": {},
   "outputs": [],
   "source": [
    "writer=pd.ExcelWriter('out.xlsx')"
   ]
  },
  {
   "cell_type": "code",
   "execution_count": 30,
   "metadata": {},
   "outputs": [
    {
     "data": {
      "text/plain": [
       "<pandas.io.excel._openpyxl._OpenpyxlWriter at 0x7f3e4557f4a8>"
      ]
     },
     "execution_count": 30,
     "metadata": {},
     "output_type": "execute_result"
    }
   ],
   "source": [
    "writer"
   ]
  },
  {
   "cell_type": "code",
   "execution_count": 31,
   "metadata": {},
   "outputs": [],
   "source": [
    "with writer:\n",
    "    products.to_excel(writer, sheet_name='Products')"
   ]
  },
  {
   "cell_type": "code",
   "execution_count": 32,
   "metadata": {},
   "outputs": [],
   "source": [
    "with writer:\n",
    "    merchants.to_excel(writer,sheet_name='Merchants')"
   ]
  },
  {
   "cell_type": "code",
   "execution_count": 33,
   "metadata": {},
   "outputs": [],
   "source": [
    "with pd.ExcelWriter('out.xlsx') as writer:\n",
    "    products.to_excel(writer, sheet_name='Products')\n",
    "    merchants.to_excel(writer, sheet_name='Merchants')"
   ]
  }
 ],
 "metadata": {
  "kernelspec": {
   "display_name": "Python 3",
   "language": "python",
   "name": "python3"
  },
  "language_info": {
   "codemirror_mode": {
    "name": "ipython",
    "version": 3
   },
   "file_extension": ".py",
   "mimetype": "text/x-python",
   "name": "python",
   "nbconvert_exporter": "python",
   "pygments_lexer": "ipython3",
   "version": "3.6.9"
  }
 },
 "nbformat": 4,
 "nbformat_minor": 2
}
